{
 "cells": [
  {
   "cell_type": "code",
   "execution_count": 18,
   "id": "84e6ae7c",
   "metadata": {},
   "outputs": [
    {
     "name": "stdout",
     "output_type": "stream",
     "text": [
      "Requirement already satisfied: pandas-datareader in /Users/mitra/miniforge3/lib/python3.9/site-packages (0.10.0)\n",
      "Requirement already satisfied: pandas>=0.23 in /Users/mitra/miniforge3/lib/python3.9/site-packages (from pandas-datareader) (1.4.1)\n",
      "Requirement already satisfied: lxml in /Users/mitra/miniforge3/lib/python3.9/site-packages (from pandas-datareader) (4.9.1)\n",
      "Requirement already satisfied: requests>=2.19.0 in /Users/mitra/miniforge3/lib/python3.9/site-packages (from pandas-datareader) (2.27.1)\n",
      "Requirement already satisfied: python-dateutil>=2.8.1 in /Users/mitra/miniforge3/lib/python3.9/site-packages (from pandas>=0.23->pandas-datareader) (2.8.2)\n",
      "Requirement already satisfied: pytz>=2020.1 in /Users/mitra/miniforge3/lib/python3.9/site-packages (from pandas>=0.23->pandas-datareader) (2022.7.1)\n",
      "Requirement already satisfied: numpy>=1.20.0 in /Users/mitra/miniforge3/lib/python3.9/site-packages (from pandas>=0.23->pandas-datareader) (1.21.2)\n",
      "Requirement already satisfied: certifi>=2017.4.17 in /Users/mitra/miniforge3/lib/python3.9/site-packages (from requests>=2.19.0->pandas-datareader) (2021.10.8)\n",
      "Requirement already satisfied: charset-normalizer~=2.0.0 in /Users/mitra/miniforge3/lib/python3.9/site-packages (from requests>=2.19.0->pandas-datareader) (2.0.12)\n",
      "Requirement already satisfied: urllib3<1.27,>=1.21.1 in /Users/mitra/miniforge3/lib/python3.9/site-packages (from requests>=2.19.0->pandas-datareader) (1.26.8)\n",
      "Requirement already satisfied: idna<4,>=2.5 in /Users/mitra/miniforge3/lib/python3.9/site-packages (from requests>=2.19.0->pandas-datareader) (3.3)\n",
      "Requirement already satisfied: six>=1.5 in /Users/mitra/miniforge3/lib/python3.9/site-packages (from python-dateutil>=2.8.1->pandas>=0.23->pandas-datareader) (1.15.0)\n",
      "Requirement already satisfied: pandas-datareader in /Users/mitra/miniforge3/lib/python3.9/site-packages (0.10.0)\n",
      "Requirement already satisfied: requests>=2.19.0 in /Users/mitra/miniforge3/lib/python3.9/site-packages (from pandas-datareader) (2.27.1)\n",
      "Requirement already satisfied: lxml in /Users/mitra/miniforge3/lib/python3.9/site-packages (from pandas-datareader) (4.9.1)\n",
      "Requirement already satisfied: pandas>=0.23 in /Users/mitra/miniforge3/lib/python3.9/site-packages (from pandas-datareader) (1.4.1)\n",
      "Requirement already satisfied: python-dateutil>=2.8.1 in /Users/mitra/miniforge3/lib/python3.9/site-packages (from pandas>=0.23->pandas-datareader) (2.8.2)\n",
      "Requirement already satisfied: pytz>=2020.1 in /Users/mitra/miniforge3/lib/python3.9/site-packages (from pandas>=0.23->pandas-datareader) (2022.7.1)\n",
      "Requirement already satisfied: numpy>=1.20.0 in /Users/mitra/miniforge3/lib/python3.9/site-packages (from pandas>=0.23->pandas-datareader) (1.21.2)\n",
      "Requirement already satisfied: certifi>=2017.4.17 in /Users/mitra/miniforge3/lib/python3.9/site-packages (from requests>=2.19.0->pandas-datareader) (2021.10.8)\n",
      "Requirement already satisfied: urllib3<1.27,>=1.21.1 in /Users/mitra/miniforge3/lib/python3.9/site-packages (from requests>=2.19.0->pandas-datareader) (1.26.8)\n",
      "Requirement already satisfied: idna<4,>=2.5 in /Users/mitra/miniforge3/lib/python3.9/site-packages (from requests>=2.19.0->pandas-datareader) (3.3)\n",
      "Requirement already satisfied: charset-normalizer~=2.0.0 in /Users/mitra/miniforge3/lib/python3.9/site-packages (from requests>=2.19.0->pandas-datareader) (2.0.12)\n",
      "Requirement already satisfied: six>=1.5 in /Users/mitra/miniforge3/lib/python3.9/site-packages (from python-dateutil>=2.8.1->pandas>=0.23->pandas-datareader) (1.15.0)\n"
     ]
    }
   ],
   "source": [
    "!pip install --upgrade pandas-datareader\n",
    "\n",
    "!pip install pandas-datareader"
   ]
  },
  {
   "cell_type": "code",
   "execution_count": null,
   "id": "d0bb1526",
   "metadata": {},
   "outputs": [],
   "source": []
  },
  {
   "cell_type": "code",
   "execution_count": null,
   "id": "1f1de61d",
   "metadata": {},
   "outputs": [],
   "source": [
    "!pip install yfinance"
   ]
  },
  {
   "cell_type": "markdown",
   "id": "91a634b9",
   "metadata": {},
   "source": [
    "# Reading data\n",
    "\n",
    "Pandas datareader provides a function get_data_yahoo to directly fetch the stock data of the specified stock from Yahoo Finance for the given duration. WE are extracting the Netflix stock price between the duration from 2010-04-01 to 2022-04-25."
   ]
  },
  {
   "cell_type": "code",
   "execution_count": 39,
   "id": "92ac9bf8",
   "metadata": {},
   "outputs": [],
   "source": [
    "import pandas_datareader.data as pdr\n",
    "import yfinance as yf\n",
    "yf.pdr_override()\n",
    "from datetime import datetime"
   ]
  },
  {
   "cell_type": "code",
   "execution_count": 40,
   "id": "7f65df21",
   "metadata": {},
   "outputs": [
    {
     "name": "stdout",
     "output_type": "stream",
     "text": [
      "[*********************100%***********************]  1 of 1 completed\n"
     ]
    },
    {
     "data": {
      "text/html": [
       "<div>\n",
       "<style scoped>\n",
       "    .dataframe tbody tr th:only-of-type {\n",
       "        vertical-align: middle;\n",
       "    }\n",
       "\n",
       "    .dataframe tbody tr th {\n",
       "        vertical-align: top;\n",
       "    }\n",
       "\n",
       "    .dataframe thead th {\n",
       "        text-align: right;\n",
       "    }\n",
       "</style>\n",
       "<table border=\"1\" class=\"dataframe\">\n",
       "  <thead>\n",
       "    <tr style=\"text-align: right;\">\n",
       "      <th></th>\n",
       "      <th>Open</th>\n",
       "      <th>High</th>\n",
       "      <th>Low</th>\n",
       "      <th>Close</th>\n",
       "      <th>Adj Close</th>\n",
       "      <th>Volume</th>\n",
       "    </tr>\n",
       "    <tr>\n",
       "      <th>Date</th>\n",
       "      <th></th>\n",
       "      <th></th>\n",
       "      <th></th>\n",
       "      <th></th>\n",
       "      <th></th>\n",
       "      <th></th>\n",
       "    </tr>\n",
       "  </thead>\n",
       "  <tbody>\n",
       "    <tr>\n",
       "      <th>2002-05-23</th>\n",
       "      <td>1.156429</td>\n",
       "      <td>1.242857</td>\n",
       "      <td>1.145714</td>\n",
       "      <td>1.196429</td>\n",
       "      <td>1.196429</td>\n",
       "      <td>104790000</td>\n",
       "    </tr>\n",
       "    <tr>\n",
       "      <th>2002-05-24</th>\n",
       "      <td>1.214286</td>\n",
       "      <td>1.225000</td>\n",
       "      <td>1.197143</td>\n",
       "      <td>1.210000</td>\n",
       "      <td>1.210000</td>\n",
       "      <td>11104800</td>\n",
       "    </tr>\n",
       "    <tr>\n",
       "      <th>2002-05-28</th>\n",
       "      <td>1.213571</td>\n",
       "      <td>1.232143</td>\n",
       "      <td>1.157143</td>\n",
       "      <td>1.157143</td>\n",
       "      <td>1.157143</td>\n",
       "      <td>6609400</td>\n",
       "    </tr>\n",
       "    <tr>\n",
       "      <th>2002-05-29</th>\n",
       "      <td>1.164286</td>\n",
       "      <td>1.164286</td>\n",
       "      <td>1.085714</td>\n",
       "      <td>1.103571</td>\n",
       "      <td>1.103571</td>\n",
       "      <td>6757800</td>\n",
       "    </tr>\n",
       "    <tr>\n",
       "      <th>2002-05-30</th>\n",
       "      <td>1.107857</td>\n",
       "      <td>1.107857</td>\n",
       "      <td>1.071429</td>\n",
       "      <td>1.071429</td>\n",
       "      <td>1.071429</td>\n",
       "      <td>10154200</td>\n",
       "    </tr>\n",
       "    <tr>\n",
       "      <th>...</th>\n",
       "      <td>...</td>\n",
       "      <td>...</td>\n",
       "      <td>...</td>\n",
       "      <td>...</td>\n",
       "      <td>...</td>\n",
       "      <td>...</td>\n",
       "    </tr>\n",
       "    <tr>\n",
       "      <th>2023-03-13</th>\n",
       "      <td>287.339996</td>\n",
       "      <td>299.239990</td>\n",
       "      <td>285.329987</td>\n",
       "      <td>293.510010</td>\n",
       "      <td>293.510010</td>\n",
       "      <td>6292400</td>\n",
       "    </tr>\n",
       "    <tr>\n",
       "      <th>2023-03-14</th>\n",
       "      <td>295.970001</td>\n",
       "      <td>297.450012</td>\n",
       "      <td>290.309998</td>\n",
       "      <td>294.940002</td>\n",
       "      <td>294.940002</td>\n",
       "      <td>5956700</td>\n",
       "    </tr>\n",
       "    <tr>\n",
       "      <th>2023-03-15</th>\n",
       "      <td>292.510010</td>\n",
       "      <td>306.309998</td>\n",
       "      <td>292.279999</td>\n",
       "      <td>303.790009</td>\n",
       "      <td>303.790009</td>\n",
       "      <td>9215300</td>\n",
       "    </tr>\n",
       "    <tr>\n",
       "      <th>2023-03-16</th>\n",
       "      <td>304.750000</td>\n",
       "      <td>316.600006</td>\n",
       "      <td>301.709991</td>\n",
       "      <td>310.059998</td>\n",
       "      <td>310.059998</td>\n",
       "      <td>7903700</td>\n",
       "    </tr>\n",
       "    <tr>\n",
       "      <th>2023-03-17</th>\n",
       "      <td>310.059998</td>\n",
       "      <td>310.760010</td>\n",
       "      <td>300.000000</td>\n",
       "      <td>303.500000</td>\n",
       "      <td>303.500000</td>\n",
       "      <td>6912100</td>\n",
       "    </tr>\n",
       "  </tbody>\n",
       "</table>\n",
       "<p>5241 rows × 6 columns</p>\n",
       "</div>"
      ],
      "text/plain": [
       "                  Open        High         Low       Close   Adj Close  \\\n",
       "Date                                                                     \n",
       "2002-05-23    1.156429    1.242857    1.145714    1.196429    1.196429   \n",
       "2002-05-24    1.214286    1.225000    1.197143    1.210000    1.210000   \n",
       "2002-05-28    1.213571    1.232143    1.157143    1.157143    1.157143   \n",
       "2002-05-29    1.164286    1.164286    1.085714    1.103571    1.103571   \n",
       "2002-05-30    1.107857    1.107857    1.071429    1.071429    1.071429   \n",
       "...                ...         ...         ...         ...         ...   \n",
       "2023-03-13  287.339996  299.239990  285.329987  293.510010  293.510010   \n",
       "2023-03-14  295.970001  297.450012  290.309998  294.940002  294.940002   \n",
       "2023-03-15  292.510010  306.309998  292.279999  303.790009  303.790009   \n",
       "2023-03-16  304.750000  316.600006  301.709991  310.059998  310.059998   \n",
       "2023-03-17  310.059998  310.760010  300.000000  303.500000  303.500000   \n",
       "\n",
       "               Volume  \n",
       "Date                   \n",
       "2002-05-23  104790000  \n",
       "2002-05-24   11104800  \n",
       "2002-05-28    6609400  \n",
       "2002-05-29    6757800  \n",
       "2002-05-30   10154200  \n",
       "...               ...  \n",
       "2023-03-13    6292400  \n",
       "2023-03-14    5956700  \n",
       "2023-03-15    9215300  \n",
       "2023-03-16    7903700  \n",
       "2023-03-17    6912100  \n",
       "\n",
       "[5241 rows x 6 columns]"
      ]
     },
     "execution_count": 40,
     "metadata": {},
     "output_type": "execute_result"
    }
   ],
   "source": [
    "df_netflix = pdr.get_data_yahoo('NFLX', datetime(1970, 1, 1))\n",
    "df_netflix"
   ]
  },
  {
   "cell_type": "code",
   "execution_count": 24,
   "id": "1cdc6026",
   "metadata": {},
   "outputs": [
    {
     "data": {
      "image/png": "[encoded data removed]",
      "text/plain": [
       "<Figure size 1080x288 with 1 Axes>"
      ]
     },
     "metadata": {
      "needs_background": "light"
     },
     "output_type": "display_data"
    }
   ],
   "source": [
    "df = df_netflix['Close']\n",
    "plt.figure(figsize = (15,4))\n",
    "plt.plot(df)\n",
    "plt.title(\"Closing Price\")\n",
    "plt.show()"
   ]
  },
  {
   "cell_type": "markdown",
   "id": "754d07b1",
   "metadata": {},
   "source": [
    "# Dividing the dataset\n",
    "Since this is time-series data, we cannot use the scikit-learn train_test_split() function because we need to preserve the order of prices. So, we will use, starting 80% of the values as a training dataset and the rest for testing. We also reshaped the datasets to make them compatible for the next step which is normalization. "
   ]
  },
  {
   "cell_type": "code",
   "execution_count": 25,
   "id": "236c1bb6",
   "metadata": {},
   "outputs": [
    {
     "data": {
      "text/plain": [
       "((4192, 1), (1049, 1))"
      ]
     },
     "execution_count": 25,
     "metadata": {},
     "output_type": "execute_result"
    }
   ],
   "source": [
    "last_index = int(len(df) * 0.8)\n",
    "train = df[:last_index].values.reshape(-1,1)\n",
    "test = df[last_index:].values.reshape(-1,1)\n",
    "train.shape, test.shape"
   ]
  },
  {
   "cell_type": "markdown",
   "id": "ba50883a",
   "metadata": {},
   "source": [
    "# Normalization\n",
    "Normalization converts all the values in the range of 0 to 1. It improves convergence and hence reduces training time."
   ]
  },
  {
   "cell_type": "code",
   "execution_count": 26,
   "id": "ea104125",
   "metadata": {},
   "outputs": [
    {
     "data": {
      "text/plain": [
       "array([[0.00196746],\n",
       "       [0.00199988],\n",
       "       [0.00187361],\n",
       "       [0.00174563],\n",
       "       [0.00166884],\n",
       "       [0.00168079],\n",
       "       [0.00180535],\n",
       "       [0.00177975],\n",
       "       [0.00184972],\n",
       "       [0.00193333]])"
      ]
     },
     "execution_count": 26,
     "metadata": {},
     "output_type": "execute_result"
    }
   ],
   "source": [
    "from sklearn.preprocessing import MinMaxScaler\n",
    " \n",
    "scaler = MinMaxScaler()\n",
    "train = scaler.fit_transform(train)\n",
    "test = scaler.transform(test)\n",
    "train[:10]"
   ]
  },
  {
   "cell_type": "markdown",
   "id": "f0fe612f",
   "metadata": {},
   "source": [
    "# Splitting the dataset into X and Y\n",
    "This function specifies how many previous values must be considered to find out the pattern, in order to predict a price. Accordingly, both, the training and testing datasets are split into X and Y."
   ]
  },
  {
   "cell_type": "code",
   "execution_count": 27,
   "id": "88dd946c",
   "metadata": {},
   "outputs": [],
   "source": [
    "def create_dataset(dataset, time_step=1):\n",
    "  data_X, data_Y = [], []\n",
    "  for i in range(len(dataset)-time_step-1):\n",
    "    a = dataset[i:(i + time_step), 0]   \n",
    "    data_X.append(a)\n",
    "    data_Y.append(dataset[i + time_step, 0])\n",
    "  return np.array(data_X), np.array(data_Y)\n",
    "\n",
    "time_step = 100\n",
    "X_train, y_train = create_dataset(train, time_step)\n",
    "X_test, y_test = create_dataset(test, time_step)"
   ]
  },
  {
   "cell_type": "code",
   "execution_count": 28,
   "id": "4a27615b",
   "metadata": {},
   "outputs": [],
   "source": [
    "X_train = X_train.reshape(X_train.shape[0],X_train.shape[1], 1)\n",
    "X_test = X_test.reshape(X_test.shape[0],X_test.shape[1], 1)"
   ]
  },
  {
   "cell_type": "code",
   "execution_count": 33,
   "id": "1e9e80c8",
   "metadata": {},
   "outputs": [
    {
     "name": "stdout",
     "output_type": "stream",
     "text": [
      "Model: \"sequential_7\"\n",
      "_________________________________________________________________\n",
      " Layer (type)                Output Shape              Param #   \n",
      "=================================================================\n",
      " dense_23 (Dense)            (None, 32)                3232      \n",
      "                                                                 \n",
      " dense_24 (Dense)            (None, 16)                528       \n",
      "                                                                 \n",
      " dense_25 (Dense)            (None, 1)                 17        \n",
      "                                                                 \n",
      "=================================================================\n",
      "Total params: 3,777\n",
      "Trainable params: 3,777\n",
      "Non-trainable params: 0\n",
      "_________________________________________________________________\n"
     ]
    }
   ],
   "source": [
    "from keras.models import Sequential\n",
    "from keras.layers import Dense\n",
    " \n",
    "model = Sequential([Dense(32, activation='relu', input_shape = [100,]),\n",
    "                    Dense(16, activation='relu'),\n",
    "                    Dense(1)])\n",
    "model.compile(loss = 'mean_squared_error', optimizer = 'adam')\n",
    "model.build()\n",
    "model.summary()"
   ]
  },
  {
   "cell_type": "code",
   "execution_count": 44,
   "id": "44741b30",
   "metadata": {},
   "outputs": [
    {
     "name": "stdout",
     "output_type": "stream",
     "text": [
      "Epoch 1/100\n",
      "128/128 [==============================] - 1s 7ms/step - loss: 4.6444e-04 - val_loss: 0.0057\n",
      "Epoch 2/100\n",
      "128/128 [==============================] - 1s 7ms/step - loss: 3.6415e-04 - val_loss: 0.0059\n",
      "Epoch 3/100\n",
      "128/128 [==============================] - 1s 6ms/step - loss: 3.2476e-04 - val_loss: 0.0061\n",
      "Epoch 4/100\n",
      "128/128 [==============================] - 1s 7ms/step - loss: 3.4109e-04 - val_loss: 0.0061\n",
      "Epoch 5/100\n",
      "128/128 [==============================] - 1s 7ms/step - loss: 3.1822e-04 - val_loss: 0.0097\n",
      "Epoch 6/100\n",
      "128/128 [==============================] - 1s 6ms/step - loss: 3.7212e-04 - val_loss: 0.0051\n",
      "Epoch 7/100\n",
      "128/128 [==============================] - 1s 6ms/step - loss: 3.3830e-04 - val_loss: 0.0049\n",
      "Epoch 8/100\n",
      "128/128 [==============================] - 1s 6ms/step - loss: 2.8630e-04 - val_loss: 0.0044\n",
      "Epoch 9/100\n",
      "128/128 [==============================] - 1s 6ms/step - loss: 2.5739e-04 - val_loss: 0.0043\n",
      "Epoch 10/100\n",
      "128/128 [==============================] - 1s 6ms/step - loss: 2.5870e-04 - val_loss: 0.0043\n",
      "Epoch 11/100\n",
      "128/128 [==============================] - 1s 6ms/step - loss: 2.1894e-04 - val_loss: 0.0051\n",
      "Epoch 12/100\n",
      "128/128 [==============================] - 1s 6ms/step - loss: 2.3548e-04 - val_loss: 0.0036\n",
      "Epoch 13/100\n",
      "128/128 [==============================] - 1s 7ms/step - loss: 2.0148e-04 - val_loss: 0.0041\n",
      "Epoch 14/100\n",
      "128/128 [==============================] - 1s 7ms/step - loss: 2.3260e-04 - val_loss: 0.0033\n",
      "Epoch 15/100\n",
      "128/128 [==============================] - 1s 7ms/step - loss: 1.9930e-04 - val_loss: 0.0034\n",
      "Epoch 16/100\n",
      "128/128 [==============================] - 1s 6ms/step - loss: 1.8442e-04 - val_loss: 0.0028\n",
      "Epoch 17/100\n",
      "128/128 [==============================] - 1s 6ms/step - loss: 2.7447e-04 - val_loss: 0.0027\n",
      "Epoch 18/100\n",
      "128/128 [==============================] - 1s 6ms/step - loss: 1.8064e-04 - val_loss: 0.0029\n",
      "Epoch 19/100\n",
      "128/128 [==============================] - 1s 6ms/step - loss: 1.8377e-04 - val_loss: 0.0037\n",
      "Epoch 20/100\n",
      "128/128 [==============================] - 1s 6ms/step - loss: 1.9571e-04 - val_loss: 0.0025\n",
      "Epoch 21/100\n",
      "128/128 [==============================] - 1s 6ms/step - loss: 1.6903e-04 - val_loss: 0.0037\n",
      "Epoch 22/100\n",
      "128/128 [==============================] - 1s 6ms/step - loss: 4.8427e-04 - val_loss: 0.0038\n",
      "Epoch 23/100\n",
      "128/128 [==============================] - 1s 6ms/step - loss: 2.5735e-04 - val_loss: 0.0031\n",
      "Epoch 24/100\n",
      "128/128 [==============================] - 1s 6ms/step - loss: 2.5194e-04 - val_loss: 0.0028\n",
      "Epoch 25/100\n",
      "128/128 [==============================] - 1s 6ms/step - loss: 1.5841e-04 - val_loss: 0.0025\n",
      "Epoch 26/100\n",
      "128/128 [==============================] - 1s 6ms/step - loss: 1.3257e-04 - val_loss: 0.0024\n",
      "Epoch 27/100\n",
      "128/128 [==============================] - 1s 6ms/step - loss: 1.4507e-04 - val_loss: 0.0024\n",
      "Epoch 28/100\n",
      "128/128 [==============================] - 1s 6ms/step - loss: 1.3511e-04 - val_loss: 0.0026\n",
      "Epoch 29/100\n",
      "128/128 [==============================] - 1s 6ms/step - loss: 1.9815e-04 - val_loss: 0.0053\n",
      "Epoch 30/100\n",
      "128/128 [==============================] - 1s 6ms/step - loss: 1.8355e-04 - val_loss: 0.0024\n",
      "Epoch 31/100\n",
      "128/128 [==============================] - 1s 6ms/step - loss: 1.7881e-04 - val_loss: 0.0075\n",
      "Epoch 32/100\n",
      "128/128 [==============================] - 1s 6ms/step - loss: 1.5444e-04 - val_loss: 0.0074\n",
      "Epoch 33/100\n",
      "128/128 [==============================] - 1s 6ms/step - loss: 1.7341e-04 - val_loss: 0.0023\n",
      "Epoch 34/100\n",
      "128/128 [==============================] - 1s 6ms/step - loss: 1.4370e-04 - val_loss: 0.0047\n",
      "Epoch 35/100\n",
      "128/128 [==============================] - 1s 6ms/step - loss: 1.6775e-04 - val_loss: 0.0019\n",
      "Epoch 36/100\n",
      "128/128 [==============================] - 1s 7ms/step - loss: 1.2867e-04 - val_loss: 0.0047\n",
      "Epoch 37/100\n",
      "128/128 [==============================] - 1s 10ms/step - loss: 1.4483e-04 - val_loss: 0.0019\n",
      "Epoch 38/100\n",
      "128/128 [==============================] - 1s 11ms/step - loss: 1.4529e-04 - val_loss: 0.0022\n",
      "Epoch 39/100\n",
      "128/128 [==============================] - 1s 9ms/step - loss: 1.5527e-04 - val_loss: 0.0018\n",
      "Epoch 40/100\n",
      "128/128 [==============================] - 1s 8ms/step - loss: 1.4722e-04 - val_loss: 0.0019\n",
      "Epoch 41/100\n",
      "128/128 [==============================] - 1s 7ms/step - loss: 2.1103e-04 - val_loss: 0.0022\n",
      "Epoch 42/100\n",
      "128/128 [==============================] - 1s 11ms/step - loss: 1.4354e-04 - val_loss: 0.0019\n",
      "Epoch 43/100\n",
      "128/128 [==============================] - 1s 9ms/step - loss: 1.9263e-04 - val_loss: 0.0018\n",
      "Epoch 44/100\n",
      "128/128 [==============================] - 1s 7ms/step - loss: 1.1806e-04 - val_loss: 0.0020\n",
      "Epoch 45/100\n",
      "128/128 [==============================] - 1s 10ms/step - loss: 1.7330e-04 - val_loss: 0.0047\n",
      "Epoch 46/100\n",
      "128/128 [==============================] - 1s 9ms/step - loss: 1.4059e-04 - val_loss: 0.0051\n",
      "Epoch 47/100\n",
      "128/128 [==============================] - 1s 7ms/step - loss: 1.1838e-04 - val_loss: 0.0032\n",
      "Epoch 48/100\n",
      "128/128 [==============================] - 1s 8ms/step - loss: 1.3201e-04 - val_loss: 0.0017\n",
      "Epoch 49/100\n",
      "128/128 [==============================] - 1s 7ms/step - loss: 1.0669e-04 - val_loss: 0.0059\n",
      "Epoch 50/100\n",
      "128/128 [==============================] - 1s 8ms/step - loss: 1.5912e-04 - val_loss: 0.0022\n",
      "Epoch 51/100\n",
      "128/128 [==============================] - 1s 9ms/step - loss: 1.8225e-04 - val_loss: 0.0019\n",
      "Epoch 52/100\n",
      "128/128 [==============================] - 1s 8ms/step - loss: 1.4710e-04 - val_loss: 0.0017\n",
      "Epoch 53/100\n",
      "128/128 [==============================] - 1s 7ms/step - loss: 1.1244e-04 - val_loss: 0.0023\n",
      "Epoch 54/100\n",
      "128/128 [==============================] - 1s 9ms/step - loss: 1.7651e-04 - val_loss: 0.0019\n",
      "Epoch 55/100\n",
      "128/128 [==============================] - 1s 9ms/step - loss: 1.2056e-04 - val_loss: 0.0019\n",
      "Epoch 56/100\n",
      "128/128 [==============================] - 1s 9ms/step - loss: 1.0712e-04 - val_loss: 0.0046\n",
      "Epoch 57/100\n",
      "128/128 [==============================] - 1s 8ms/step - loss: 1.5812e-04 - val_loss: 0.0018\n",
      "Epoch 58/100\n",
      "128/128 [==============================] - 1s 7ms/step - loss: 1.4932e-04 - val_loss: 0.0063\n",
      "Epoch 59/100\n",
      "128/128 [==============================] - 1s 8ms/step - loss: 1.1030e-04 - val_loss: 0.0050\n",
      "Epoch 60/100\n",
      "128/128 [==============================] - 1s 9ms/step - loss: 1.2532e-04 - val_loss: 0.0015\n",
      "Epoch 61/100\n",
      "128/128 [==============================] - 1s 9ms/step - loss: 8.5383e-05 - val_loss: 0.0019\n",
      "Epoch 62/100\n",
      "128/128 [==============================] - 1s 9ms/step - loss: 1.1933e-04 - val_loss: 0.0031\n",
      "Epoch 63/100\n",
      "128/128 [==============================] - 1s 8ms/step - loss: 1.2752e-04 - val_loss: 0.0016\n",
      "Epoch 64/100\n",
      "128/128 [==============================] - 1s 9ms/step - loss: 1.0282e-04 - val_loss: 0.0015\n",
      "Epoch 65/100\n",
      "128/128 [==============================] - 1s 8ms/step - loss: 1.2598e-04 - val_loss: 0.0018\n",
      "Epoch 66/100\n",
      "128/128 [==============================] - 1s 8ms/step - loss: 1.8509e-04 - val_loss: 0.0198\n",
      "Epoch 67/100\n",
      "128/128 [==============================] - 1s 8ms/step - loss: 1.9615e-04 - val_loss: 0.0018\n",
      "Epoch 68/100\n",
      "128/128 [==============================] - 1s 7ms/step - loss: 9.7248e-05 - val_loss: 0.0025\n",
      "Epoch 69/100\n",
      "128/128 [==============================] - 1s 8ms/step - loss: 9.7474e-05 - val_loss: 0.0016\n",
      "Epoch 70/100\n",
      "128/128 [==============================] - 1s 9ms/step - loss: 9.9073e-05 - val_loss: 0.0019\n",
      "Epoch 71/100\n",
      "128/128 [==============================] - 1s 8ms/step - loss: 1.0668e-04 - val_loss: 0.0018\n",
      "Epoch 72/100\n",
      "128/128 [==============================] - 1s 8ms/step - loss: 9.6169e-05 - val_loss: 0.0014\n",
      "Epoch 73/100\n",
      "128/128 [==============================] - 1s 8ms/step - loss: 1.1433e-04 - val_loss: 0.0018\n",
      "Epoch 74/100\n",
      "128/128 [==============================] - 1s 9ms/step - loss: 9.9514e-05 - val_loss: 0.0014\n",
      "Epoch 75/100\n",
      "128/128 [==============================] - 1s 8ms/step - loss: 1.1418e-04 - val_loss: 0.0016\n",
      "Epoch 76/100\n",
      "128/128 [==============================] - 1s 7ms/step - loss: 1.0887e-04 - val_loss: 0.0027\n",
      "Epoch 77/100\n",
      "128/128 [==============================] - 1s 7ms/step - loss: 9.1961e-05 - val_loss: 0.0028\n",
      "Epoch 78/100\n"
     ]
    },
    {
     "name": "stdout",
     "output_type": "stream",
     "text": [
      "128/128 [==============================] - 1s 9ms/step - loss: 1.1014e-04 - val_loss: 0.0015\n",
      "Epoch 79/100\n",
      "128/128 [==============================] - 1s 10ms/step - loss: 9.4874e-05 - val_loss: 0.0017\n",
      "Epoch 80/100\n",
      "128/128 [==============================] - 1s 9ms/step - loss: 1.0171e-04 - val_loss: 0.0017\n",
      "Epoch 81/100\n",
      "128/128 [==============================] - 1s 7ms/step - loss: 9.2184e-05 - val_loss: 0.0022\n",
      "Epoch 82/100\n",
      "128/128 [==============================] - 1s 8ms/step - loss: 9.1350e-05 - val_loss: 0.0025\n",
      "Epoch 83/100\n",
      "128/128 [==============================] - 1s 9ms/step - loss: 1.5135e-04 - val_loss: 0.0061\n",
      "Epoch 84/100\n",
      "128/128 [==============================] - 1s 8ms/step - loss: 1.2231e-04 - val_loss: 0.0017\n",
      "Epoch 85/100\n",
      "128/128 [==============================] - 1s 8ms/step - loss: 8.6748e-05 - val_loss: 0.0015\n",
      "Epoch 86/100\n",
      "128/128 [==============================] - 1s 8ms/step - loss: 1.1317e-04 - val_loss: 0.0015\n",
      "Epoch 87/100\n",
      "128/128 [==============================] - 1s 7ms/step - loss: 1.0047e-04 - val_loss: 0.0014\n",
      "Epoch 88/100\n",
      "128/128 [==============================] - 1s 8ms/step - loss: 9.1883e-05 - val_loss: 0.0019\n",
      "Epoch 89/100\n",
      "128/128 [==============================] - 1s 7ms/step - loss: 1.4792e-04 - val_loss: 0.0016\n",
      "Epoch 90/100\n",
      "128/128 [==============================] - 1s 8ms/step - loss: 1.1185e-04 - val_loss: 0.0026\n",
      "Epoch 91/100\n",
      "128/128 [==============================] - 1s 9ms/step - loss: 1.4086e-04 - val_loss: 0.0037\n",
      "Epoch 92/100\n",
      "128/128 [==============================] - 1s 8ms/step - loss: 8.4072e-05 - val_loss: 0.0014\n",
      "Epoch 93/100\n",
      "128/128 [==============================] - 1s 8ms/step - loss: 8.9659e-05 - val_loss: 0.0014\n",
      "Epoch 94/100\n",
      "128/128 [==============================] - 1s 8ms/step - loss: 9.1065e-05 - val_loss: 0.0014\n",
      "Epoch 95/100\n",
      "128/128 [==============================] - 1s 9ms/step - loss: 9.4519e-05 - val_loss: 0.0033\n",
      "Epoch 96/100\n",
      "128/128 [==============================] - 1s 9ms/step - loss: 1.1079e-04 - val_loss: 0.0018\n",
      "Epoch 97/100\n",
      "128/128 [==============================] - 1s 8ms/step - loss: 8.7285e-05 - val_loss: 0.0016\n",
      "Epoch 98/100\n",
      "128/128 [==============================] - 1s 11ms/step - loss: 1.4081e-04 - val_loss: 0.0025\n",
      "Epoch 99/100\n",
      "128/128 [==============================] - 1s 8ms/step - loss: 8.4610e-05 - val_loss: 0.0016\n",
      "Epoch 100/100\n",
      "128/128 [==============================] - 1s 10ms/step - loss: 8.6127e-05 - val_loss: 0.0014\n"
     ]
    }
   ],
   "source": [
    "history = model.fit(X_train, y_train, validation_data = (X_test, y_test), epochs = 100)"
   ]
  },
  {
   "cell_type": "code",
   "execution_count": 45,
   "id": "24e3354d",
   "metadata": {},
   "outputs": [
    {
     "data": {
      "image/png": "[encoded data removed]",
      "text/plain": [
       "<Figure size 432x288 with 1 Axes>"
      ]
     },
     "metadata": {
      "needs_background": "light"
     },
     "output_type": "display_data"
    }
   ],
   "source": [
    "def plot_history(history):\n",
    "    #acc = history.history['acc']\n",
    "    #val_acc = history.history['val_acc']\n",
    "    loss = history.history['loss']\n",
    "    val_loss = history.history['val_loss']\n",
    "    \n",
    "    epochs = range(1, len(loss) + 1)\n",
    "    \n",
    "    #plt.plot(epochs, acc, 'bo', label='Training acc')\n",
    "    #plt.plot(epochs, val_acc, 'b', label='Validation acc')\n",
    "    #plt.title('Training and validation accuracy')\n",
    "    #plt.legend()\n",
    "    \n",
    "    plt.figure()\n",
    "    \n",
    "    plt.plot(epochs, loss, 'bo', label='Training loss')\n",
    "    plt.plot(epochs, val_loss, 'b', label='Validation loss')\n",
    "    plt.title('Training and validation loss')\n",
    "    plt.legend()\n",
    "    plt.show()\n",
    "plot_history(history)"
   ]
  },
  {
   "cell_type": "code",
   "execution_count": 46,
   "id": "3905c980",
   "metadata": {},
   "outputs": [
    {
     "data": {
      "text/plain": [
       "array([[0.8418368 ],\n",
       "       [0.83000845],\n",
       "       [0.8271553 ],\n",
       "       [0.8155221 ],\n",
       "       [0.8209669 ],\n",
       "       [0.83195823],\n",
       "       [0.8467161 ],\n",
       "       [0.85809475],\n",
       "       [0.8741582 ],\n",
       "       [0.88518983]], dtype=float32)"
      ]
     },
     "execution_count": 46,
     "metadata": {},
     "output_type": "execute_result"
    }
   ],
   "source": [
    "test_predict = model.predict(X_test)\n",
    "test_predict[:10]"
   ]
  },
  {
   "cell_type": "markdown",
   "id": "a1b506ec",
   "metadata": {},
   "source": [
    "# Inversing Transformation\n",
    "Since we normalized the data earlier and converted all the values in the range 0 to 1, now we should inverse the transformation to get actual values. "
   ]
  },
  {
   "cell_type": "code",
   "execution_count": 47,
   "id": "703d8c68",
   "metadata": {},
   "outputs": [],
   "source": [
    "test_predict=scaler.inverse_transform(test_predict)"
   ]
  },
  {
   "cell_type": "markdown",
   "id": "5a7afaad",
   "metadata": {},
   "source": [
    "# Visualizing the predictions\n",
    "Here we have plotted actual and predicted stock prices for the test dataset. We can see that the model is performing fine."
   ]
  },
  {
   "cell_type": "code",
   "execution_count": 48,
   "id": "6fbe3f45",
   "metadata": {},
   "outputs": [
    {
     "data": {
      "image/png": "[encoded data removed]",
      "text/plain": [
       "<Figure size 1080x288 with 1 Axes>"
      ]
     },
     "metadata": {
      "needs_background": "light"
     },
     "output_type": "display_data"
    }
   ],
   "source": [
    "plt.figure(figsize = (15,4))\n",
    "plt.plot(scaler.inverse_transform(y_test.reshape(-1,1)), color = 'r', label = 'actual')\n",
    "plt.plot(test_predict, color = 'b',label = 'predicted')\n",
    "plt.legend()\n",
    "plt.show()"
   ]
  },
  {
   "cell_type": "markdown",
   "id": "38e07027",
   "metadata": {},
   "source": [
    "# Evaluating model\n",
    "For evaluation, we will be using root mean square values."
   ]
  },
  {
   "cell_type": "code",
   "execution_count": 49,
   "id": "5d6f4d37",
   "metadata": {},
   "outputs": [
    {
     "data": {
      "text/plain": [
       "428.1432353154394"
      ]
     },
     "execution_count": 49,
     "metadata": {},
     "output_type": "execute_result"
    }
   ],
   "source": [
    "from sklearn.metrics import mean_squared_error\n",
    "mean_squared_error(y_test,test_predict, squared = False)"
   ]
  }
 ],
 "metadata": {
  "kernelspec": {
   "display_name": "Python 3 (ipykernel)",
   "language": "python",
   "name": "python3"
  },
  "language_info": {
   "codemirror_mode": {
    "name": "ipython",
    "version": 3
   },
   "file_extension": ".py",
   "mimetype": "text/x-python",
   "name": "python",
   "nbconvert_exporter": "python",
   "pygments_lexer": "ipython3",
   "version": "3.9.10"
  }
 },
 "nbformat": 4,
 "nbformat_minor": 5
}

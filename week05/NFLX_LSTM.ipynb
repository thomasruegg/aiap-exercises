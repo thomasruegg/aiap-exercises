{
 "cells": [
  {
   "cell_type": "code",
   "execution_count": 30,
   "id": "f0dc5432",
   "metadata": {},
   "outputs": [
    {
     "name": "stdout",
     "output_type": "stream",
     "text": [
      "Requirement already satisfied: pandas-datareader in /Users/thomas.rueegg/miniforge3/envs/aiap/lib/python3.10/site-packages (0.10.0)\n",
      "Requirement already satisfied: requests>=2.19.0 in /Users/thomas.rueegg/miniforge3/envs/aiap/lib/python3.10/site-packages (from pandas-datareader) (2.28.2)\n",
      "Requirement already satisfied: pandas>=0.23 in /Users/thomas.rueegg/miniforge3/envs/aiap/lib/python3.10/site-packages (from pandas-datareader) (1.5.3)\n",
      "Requirement already satisfied: lxml in /Users/thomas.rueegg/miniforge3/envs/aiap/lib/python3.10/site-packages (from pandas-datareader) (4.9.2)\n",
      "Requirement already satisfied: pytz>=2020.1 in /Users/thomas.rueegg/miniforge3/envs/aiap/lib/python3.10/site-packages (from pandas>=0.23->pandas-datareader) (2022.7.1)\n",
      "Requirement already satisfied: numpy>=1.21.0 in /Users/thomas.rueegg/miniforge3/envs/aiap/lib/python3.10/site-packages (from pandas>=0.23->pandas-datareader) (1.23.2)\n",
      "Requirement already satisfied: python-dateutil>=2.8.1 in /Users/thomas.rueegg/miniforge3/envs/aiap/lib/python3.10/site-packages (from pandas>=0.23->pandas-datareader) (2.8.2)\n",
      "Requirement already satisfied: charset-normalizer<4,>=2 in /Users/thomas.rueegg/miniforge3/envs/aiap/lib/python3.10/site-packages (from requests>=2.19.0->pandas-datareader) (3.1.0)\n",
      "Requirement already satisfied: urllib3<1.27,>=1.21.1 in /Users/thomas.rueegg/miniforge3/envs/aiap/lib/python3.10/site-packages (from requests>=2.19.0->pandas-datareader) (1.26.15)\n",
      "Requirement already satisfied: certifi>=2017.4.17 in /Users/thomas.rueegg/miniforge3/envs/aiap/lib/python3.10/site-packages (from requests>=2.19.0->pandas-datareader) (2022.12.7)\n",
      "Requirement already satisfied: idna<4,>=2.5 in /Users/thomas.rueegg/miniforge3/envs/aiap/lib/python3.10/site-packages (from requests>=2.19.0->pandas-datareader) (3.4)\n",
      "Requirement already satisfied: six>=1.5 in /Users/thomas.rueegg/miniforge3/envs/aiap/lib/python3.10/site-packages (from python-dateutil>=2.8.1->pandas>=0.23->pandas-datareader) (1.16.0)\n",
      "Requirement already satisfied: pandas-datareader in /Users/thomas.rueegg/miniforge3/envs/aiap/lib/python3.10/site-packages (0.10.0)\n",
      "Requirement already satisfied: lxml in /Users/thomas.rueegg/miniforge3/envs/aiap/lib/python3.10/site-packages (from pandas-datareader) (4.9.2)\n",
      "Requirement already satisfied: requests>=2.19.0 in /Users/thomas.rueegg/miniforge3/envs/aiap/lib/python3.10/site-packages (from pandas-datareader) (2.28.2)\n",
      "Requirement already satisfied: pandas>=0.23 in /Users/thomas.rueegg/miniforge3/envs/aiap/lib/python3.10/site-packages (from pandas-datareader) (1.5.3)\n",
      "Requirement already satisfied: numpy>=1.21.0 in /Users/thomas.rueegg/miniforge3/envs/aiap/lib/python3.10/site-packages (from pandas>=0.23->pandas-datareader) (1.23.2)\n",
      "Requirement already satisfied: pytz>=2020.1 in /Users/thomas.rueegg/miniforge3/envs/aiap/lib/python3.10/site-packages (from pandas>=0.23->pandas-datareader) (2022.7.1)\n",
      "Requirement already satisfied: python-dateutil>=2.8.1 in /Users/thomas.rueegg/miniforge3/envs/aiap/lib/python3.10/site-packages (from pandas>=0.23->pandas-datareader) (2.8.2)\n",
      "Requirement already satisfied: certifi>=2017.4.17 in /Users/thomas.rueegg/miniforge3/envs/aiap/lib/python3.10/site-packages (from requests>=2.19.0->pandas-datareader) (2022.12.7)\n",
      "Requirement already satisfied: charset-normalizer<4,>=2 in /Users/thomas.rueegg/miniforge3/envs/aiap/lib/python3.10/site-packages (from requests>=2.19.0->pandas-datareader) (3.1.0)\n",
      "Requirement already satisfied: urllib3<1.27,>=1.21.1 in /Users/thomas.rueegg/miniforge3/envs/aiap/lib/python3.10/site-packages (from requests>=2.19.0->pandas-datareader) (1.26.15)\n",
      "Requirement already satisfied: idna<4,>=2.5 in /Users/thomas.rueegg/miniforge3/envs/aiap/lib/python3.10/site-packages (from requests>=2.19.0->pandas-datareader) (3.4)\n",
      "Requirement already satisfied: six>=1.5 in /Users/thomas.rueegg/miniforge3/envs/aiap/lib/python3.10/site-packages (from python-dateutil>=2.8.1->pandas>=0.23->pandas-datareader) (1.16.0)\n"
     ]
    }
   ],
   "source": [
    "!pip install --upgrade pandas-datareader\n",
    "\n",
    "!pip install pandas-datareader"
   ]
  },
  {
   "cell_type": "code",
   "execution_count": 31,
   "id": "0e978521",
   "metadata": {},
   "outputs": [
    {
     "name": "stdout",
     "output_type": "stream",
     "text": [
      "Requirement already satisfied: yfinance in /Users/thomas.rueegg/miniforge3/envs/aiap/lib/python3.10/site-packages (0.2.13)\n",
      "Requirement already satisfied: multitasking>=0.0.7 in /Users/thomas.rueegg/miniforge3/envs/aiap/lib/python3.10/site-packages (from yfinance) (0.0.11)\n",
      "Requirement already satisfied: requests>=2.26 in /Users/thomas.rueegg/miniforge3/envs/aiap/lib/python3.10/site-packages (from yfinance) (2.28.2)\n",
      "Requirement already satisfied: html5lib>=1.1 in /Users/thomas.rueegg/miniforge3/envs/aiap/lib/python3.10/site-packages (from yfinance) (1.1)\n",
      "Requirement already satisfied: frozendict>=2.3.4 in /Users/thomas.rueegg/miniforge3/envs/aiap/lib/python3.10/site-packages (from yfinance) (2.3.6)\n",
      "Requirement already satisfied: beautifulsoup4>=4.11.1 in /Users/thomas.rueegg/miniforge3/envs/aiap/lib/python3.10/site-packages (from yfinance) (4.11.2)\n",
      "Requirement already satisfied: cryptography>=3.3.2 in /Users/thomas.rueegg/miniforge3/envs/aiap/lib/python3.10/site-packages (from yfinance) (39.0.2)\n",
      "Requirement already satisfied: lxml>=4.9.1 in /Users/thomas.rueegg/miniforge3/envs/aiap/lib/python3.10/site-packages (from yfinance) (4.9.2)\n",
      "Requirement already satisfied: pytz>=2022.5 in /Users/thomas.rueegg/miniforge3/envs/aiap/lib/python3.10/site-packages (from yfinance) (2022.7.1)\n",
      "Requirement already satisfied: pandas>=1.3.0 in /Users/thomas.rueegg/miniforge3/envs/aiap/lib/python3.10/site-packages (from yfinance) (1.5.3)\n",
      "Requirement already satisfied: numpy>=1.16.5 in /Users/thomas.rueegg/miniforge3/envs/aiap/lib/python3.10/site-packages (from yfinance) (1.23.2)\n",
      "Requirement already satisfied: appdirs>=1.4.4 in /Users/thomas.rueegg/miniforge3/envs/aiap/lib/python3.10/site-packages (from yfinance) (1.4.4)\n",
      "Requirement already satisfied: soupsieve>1.2 in /Users/thomas.rueegg/miniforge3/envs/aiap/lib/python3.10/site-packages (from beautifulsoup4>=4.11.1->yfinance) (2.3.2.post1)\n",
      "Requirement already satisfied: cffi>=1.12 in /Users/thomas.rueegg/miniforge3/envs/aiap/lib/python3.10/site-packages (from cryptography>=3.3.2->yfinance) (1.15.1)\n",
      "Requirement already satisfied: six>=1.9 in /Users/thomas.rueegg/miniforge3/envs/aiap/lib/python3.10/site-packages (from html5lib>=1.1->yfinance) (1.16.0)\n",
      "Requirement already satisfied: webencodings in /Users/thomas.rueegg/miniforge3/envs/aiap/lib/python3.10/site-packages (from html5lib>=1.1->yfinance) (0.5.1)\n",
      "Requirement already satisfied: python-dateutil>=2.8.1 in /Users/thomas.rueegg/miniforge3/envs/aiap/lib/python3.10/site-packages (from pandas>=1.3.0->yfinance) (2.8.2)\n",
      "Requirement already satisfied: certifi>=2017.4.17 in /Users/thomas.rueegg/miniforge3/envs/aiap/lib/python3.10/site-packages (from requests>=2.26->yfinance) (2022.12.7)\n",
      "Requirement already satisfied: charset-normalizer<4,>=2 in /Users/thomas.rueegg/miniforge3/envs/aiap/lib/python3.10/site-packages (from requests>=2.26->yfinance) (3.1.0)\n",
      "Requirement already satisfied: urllib3<1.27,>=1.21.1 in /Users/thomas.rueegg/miniforge3/envs/aiap/lib/python3.10/site-packages (from requests>=2.26->yfinance) (1.26.15)\n",
      "Requirement already satisfied: idna<4,>=2.5 in /Users/thomas.rueegg/miniforge3/envs/aiap/lib/python3.10/site-packages (from requests>=2.26->yfinance) (3.4)\n",
      "Requirement already satisfied: pycparser in /Users/thomas.rueegg/miniforge3/envs/aiap/lib/python3.10/site-packages (from cffi>=1.12->cryptography>=3.3.2->yfinance) (2.21)\n"
     ]
    }
   ],
   "source": [
    "!pip install yfinance"
   ]
  },
  {
   "cell_type": "markdown",
   "id": "f82b6f4f",
   "metadata": {},
   "source": [
    "# Reading data\n",
    "\n",
    "Pandas datareader provides a function get_data_yahoo to directly fetch the stock data of the specified stock from Yahoo Finance for the given duration. WE are extracting the Netflix stock price between the duration from till today."
   ]
  },
  {
   "cell_type": "code",
   "execution_count": 32,
   "id": "9912b4b4",
   "metadata": {},
   "outputs": [],
   "source": [
    "import pandas_datareader.data as pdr\n",
    "import matplotlib.pyplot as plt\n",
    "import yfinance as yf\n",
    "import numpy as np\n",
    "yf.pdr_override()\n",
    "from datetime import datetime"
   ]
  },
  {
   "cell_type": "code",
   "execution_count": 33,
   "id": "8b074bee",
   "metadata": {},
   "outputs": [
    {
     "name": "stdout",
     "output_type": "stream",
     "text": [
      "[*********************100%***********************]  1 of 1 completed\n"
     ]
    },
    {
     "data": {
      "text/html": [
       "<div>\n",
       "<style scoped>\n",
       "    .dataframe tbody tr th:only-of-type {\n",
       "        vertical-align: middle;\n",
       "    }\n",
       "\n",
       "    .dataframe tbody tr th {\n",
       "        vertical-align: top;\n",
       "    }\n",
       "\n",
       "    .dataframe thead th {\n",
       "        text-align: right;\n",
       "    }\n",
       "</style>\n",
       "<table border=\"1\" class=\"dataframe\">\n",
       "  <thead>\n",
       "    <tr style=\"text-align: right;\">\n",
       "      <th></th>\n",
       "      <th>Open</th>\n",
       "      <th>High</th>\n",
       "      <th>Low</th>\n",
       "      <th>Close</th>\n",
       "      <th>Adj Close</th>\n",
       "      <th>Volume</th>\n",
       "    </tr>\n",
       "    <tr>\n",
       "      <th>Date</th>\n",
       "      <th></th>\n",
       "      <th></th>\n",
       "      <th></th>\n",
       "      <th></th>\n",
       "      <th></th>\n",
       "      <th></th>\n",
       "    </tr>\n",
       "  </thead>\n",
       "  <tbody>\n",
       "    <tr>\n",
       "      <th>2002-05-23</th>\n",
       "      <td>1.156429</td>\n",
       "      <td>1.242857</td>\n",
       "      <td>1.145714</td>\n",
       "      <td>1.196429</td>\n",
       "      <td>1.196429</td>\n",
       "      <td>104790000</td>\n",
       "    </tr>\n",
       "    <tr>\n",
       "      <th>2002-05-24</th>\n",
       "      <td>1.214286</td>\n",
       "      <td>1.225000</td>\n",
       "      <td>1.197143</td>\n",
       "      <td>1.210000</td>\n",
       "      <td>1.210000</td>\n",
       "      <td>11104800</td>\n",
       "    </tr>\n",
       "    <tr>\n",
       "      <th>2002-05-28</th>\n",
       "      <td>1.213571</td>\n",
       "      <td>1.232143</td>\n",
       "      <td>1.157143</td>\n",
       "      <td>1.157143</td>\n",
       "      <td>1.157143</td>\n",
       "      <td>6609400</td>\n",
       "    </tr>\n",
       "    <tr>\n",
       "      <th>2002-05-29</th>\n",
       "      <td>1.164286</td>\n",
       "      <td>1.164286</td>\n",
       "      <td>1.085714</td>\n",
       "      <td>1.103571</td>\n",
       "      <td>1.103571</td>\n",
       "      <td>6757800</td>\n",
       "    </tr>\n",
       "    <tr>\n",
       "      <th>2002-05-30</th>\n",
       "      <td>1.107857</td>\n",
       "      <td>1.107857</td>\n",
       "      <td>1.071429</td>\n",
       "      <td>1.071429</td>\n",
       "      <td>1.071429</td>\n",
       "      <td>10154200</td>\n",
       "    </tr>\n",
       "    <tr>\n",
       "      <th>...</th>\n",
       "      <td>...</td>\n",
       "      <td>...</td>\n",
       "      <td>...</td>\n",
       "      <td>...</td>\n",
       "      <td>...</td>\n",
       "      <td>...</td>\n",
       "    </tr>\n",
       "    <tr>\n",
       "      <th>2023-03-24</th>\n",
       "      <td>320.630005</td>\n",
       "      <td>331.829987</td>\n",
       "      <td>320.630005</td>\n",
       "      <td>328.390015</td>\n",
       "      <td>328.390015</td>\n",
       "      <td>12991700</td>\n",
       "    </tr>\n",
       "    <tr>\n",
       "      <th>2023-03-27</th>\n",
       "      <td>327.549988</td>\n",
       "      <td>336.440002</td>\n",
       "      <td>324.410004</td>\n",
       "      <td>327.660004</td>\n",
       "      <td>327.660004</td>\n",
       "      <td>8625800</td>\n",
       "    </tr>\n",
       "    <tr>\n",
       "      <th>2023-03-28</th>\n",
       "      <td>326.059998</td>\n",
       "      <td>333.320007</td>\n",
       "      <td>321.279999</td>\n",
       "      <td>323.519989</td>\n",
       "      <td>323.519989</td>\n",
       "      <td>6489400</td>\n",
       "    </tr>\n",
       "    <tr>\n",
       "      <th>2023-03-29</th>\n",
       "      <td>326.290009</td>\n",
       "      <td>332.850006</td>\n",
       "      <td>325.730011</td>\n",
       "      <td>332.029999</td>\n",
       "      <td>332.029999</td>\n",
       "      <td>6287300</td>\n",
       "    </tr>\n",
       "    <tr>\n",
       "      <th>2023-03-30</th>\n",
       "      <td>340.269989</td>\n",
       "      <td>343.290009</td>\n",
       "      <td>335.299988</td>\n",
       "      <td>338.429993</td>\n",
       "      <td>338.429993</td>\n",
       "      <td>7127600</td>\n",
       "    </tr>\n",
       "  </tbody>\n",
       "</table>\n",
       "<p>5250 rows × 6 columns</p>\n",
       "</div>"
      ],
      "text/plain": [
       "                  Open        High         Low       Close   Adj Close  \\\n",
       "Date                                                                     \n",
       "2002-05-23    1.156429    1.242857    1.145714    1.196429    1.196429   \n",
       "2002-05-24    1.214286    1.225000    1.197143    1.210000    1.210000   \n",
       "2002-05-28    1.213571    1.232143    1.157143    1.157143    1.157143   \n",
       "2002-05-29    1.164286    1.164286    1.085714    1.103571    1.103571   \n",
       "2002-05-30    1.107857    1.107857    1.071429    1.071429    1.071429   \n",
       "...                ...         ...         ...         ...         ...   \n",
       "2023-03-24  320.630005  331.829987  320.630005  328.390015  328.390015   \n",
       "2023-03-27  327.549988  336.440002  324.410004  327.660004  327.660004   \n",
       "2023-03-28  326.059998  333.320007  321.279999  323.519989  323.519989   \n",
       "2023-03-29  326.290009  332.850006  325.730011  332.029999  332.029999   \n",
       "2023-03-30  340.269989  343.290009  335.299988  338.429993  338.429993   \n",
       "\n",
       "               Volume  \n",
       "Date                   \n",
       "2002-05-23  104790000  \n",
       "2002-05-24   11104800  \n",
       "2002-05-28    6609400  \n",
       "2002-05-29    6757800  \n",
       "2002-05-30   10154200  \n",
       "...               ...  \n",
       "2023-03-24   12991700  \n",
       "2023-03-27    8625800  \n",
       "2023-03-28    6489400  \n",
       "2023-03-29    6287300  \n",
       "2023-03-30    7127600  \n",
       "\n",
       "[5250 rows x 6 columns]"
      ]
     },
     "execution_count": 33,
     "metadata": {},
     "output_type": "execute_result"
    }
   ],
   "source": [
    "df_netflix = pdr.get_data_yahoo('NFLX', datetime(1970, 1, 1))\n",
    "df_netflix"
   ]
  },
  {
   "cell_type": "code",
   "execution_count": 34,
   "id": "bc17e334",
   "metadata": {},
   "outputs": [
    {
     "data": {
      "image/png": "[encoded data removed]",
      "text/plain": [
       "<Figure size 1500x400 with 1 Axes>"
      ]
     },
     "metadata": {},
     "output_type": "display_data"
    }
   ],
   "source": [
    "df = df_netflix['Close']\n",
    "plt.figure(figsize = (15,4))\n",
    "plt.plot(df)\n",
    "plt.title(\"Closing Price\")\n",
    "plt.show()"
   ]
  },
  {
   "cell_type": "markdown",
   "id": "c0ca841d",
   "metadata": {},
   "source": [
    "# Dividing the dataset\n",
    "Since this is time-series data, we cannot use the scikit-learn train_test_split() function because we need to preserve the order of prices. So, we will use, starting 80% of the values as a training dataset and the rest for testing. We also reshaped the datasets to make them compatible for the next step which is normalization. "
   ]
  },
  {
   "cell_type": "code",
   "execution_count": 35,
   "id": "34a85bc2",
   "metadata": {},
   "outputs": [
    {
     "data": {
      "text/plain": [
       "((3360, 1), (840, 1), (1050, 1))"
      ]
     },
     "execution_count": 35,
     "metadata": {},
     "output_type": "execute_result"
    }
   ],
   "source": [
    "last_index = int(len(df) * 0.8)\n",
    "train_complete = df[:last_index]\n",
    "\n",
    "last_index_train = int(len(train_complete) * 0.8)\n",
    "train = train_complete[:last_index_train].values.reshape(-1, 1)\n",
    "val = train_complete[last_index_train:].values.reshape(-1, 1)\n",
    "\n",
    "test = df[last_index:].values.reshape(-1,1)\n",
    "\n",
    "train.shape, val.shape, test.shape"
   ]
  },
  {
   "cell_type": "markdown",
   "id": "0bf103b2",
   "metadata": {},
   "source": [
    "# Normalization\n",
    "Normalization converts all the values in the range of 0 to 1. It improves convergence and hence reduces training time."
   ]
  },
  {
   "cell_type": "code",
   "execution_count": 36,
   "id": "8f18bf53",
   "metadata": {},
   "outputs": [
    {
     "data": {
      "text/plain": [
       "array([[0.00653229],\n",
       "       [0.00663993],\n",
       "       [0.00622068],\n",
       "       [0.00579577],\n",
       "       [0.00554083],\n",
       "       [0.00558049],\n",
       "       [0.00599406],\n",
       "       [0.00590908],\n",
       "       [0.00614137],\n",
       "       [0.00641897]])"
      ]
     },
     "execution_count": 36,
     "metadata": {},
     "output_type": "execute_result"
    }
   ],
   "source": [
    "from sklearn.preprocessing import MinMaxScaler\n",
    " \n",
    "scaler = MinMaxScaler()\n",
    "train = scaler.fit_transform(train)\n",
    "test = scaler.transform(test)\n",
    "val = scaler.fit_transform(val)\n",
    "train[:10]"
   ]
  },
  {
   "cell_type": "markdown",
   "id": "8ae3cfd7",
   "metadata": {},
   "source": [
    "# Splitting the dataset into X and Y\n",
    "This function specifies how many previous values must be considered to find out the pattern, in order to predict a price. Accordingly, both, the training and testing datasets are split into X and Y."
   ]
  },
  {
   "cell_type": "code",
   "execution_count": 37,
   "id": "b31ccc1d",
   "metadata": {},
   "outputs": [],
   "source": [
    "def create_dataset(dataset, time_step=1):\n",
    "  data_X, data_Y = [], []\n",
    "  for i in range(len(dataset)-time_step-1):\n",
    "    a = dataset[i:(i + time_step), 0]   \n",
    "    data_X.append(a)\n",
    "    data_Y.append(dataset[i + time_step, 0])\n",
    "  return np.array(data_X), np.array(data_Y)\n",
    "\n",
    "time_step = 10\n",
    "\n",
    "X_train, y_train = create_dataset(train, time_step)\n",
    "X_val, y_val = create_dataset(val, time_step)\n",
    "X_test, y_test = create_dataset(test, time_step)"
   ]
  },
  {
   "cell_type": "code",
   "execution_count": 38,
   "id": "189bb11a",
   "metadata": {},
   "outputs": [],
   "source": [
    "X_train = X_train.reshape(X_train.shape[0],X_train.shape[1], 1)\n",
    "X_val = X_val.reshape(X_val.shape[0], X_val.shape[1], 1)\n",
    "X_test = X_test.reshape(X_test.shape[0],X_test.shape[1], 1)"
   ]
  },
  {
   "cell_type": "code",
   "execution_count": 39,
   "id": "4200ea0a",
   "metadata": {},
   "outputs": [
    {
     "name": "stdout",
     "output_type": "stream",
     "text": [
      "Model: \"sequential_2\"\n",
      "_________________________________________________________________\n",
      " Layer (type)                Output Shape              Param #   \n",
      "=================================================================\n",
      " lstm_2 (LSTM)               (None, 10, 50)            10400     \n",
      "                                                                 \n",
      " dense_2 (Dense)             (None, 10, 1)             51        \n",
      "                                                                 \n",
      "=================================================================\n",
      "Total params: 10,451\n",
      "Trainable params: 10,451\n",
      "Non-trainable params: 0\n",
      "_________________________________________________________________\n"
     ]
    }
   ],
   "source": [
    "from keras.models import Sequential\n",
    "from keras.layers import SimpleRNN, Dense, LSTM\n",
    " \n",
    "model = Sequential([LSTM(50, input_shape=[10, 1,], return_sequences=True, return_state=False),\n",
    "                    Dense(1, activation='relu')])\n",
    "model.compile(loss = 'mean_squared_error', optimizer = 'adam')\n",
    "model.build()\n",
    "model.summary()"
   ]
  },
  {
   "cell_type": "code",
   "execution_count": 40,
   "id": "b43169a3",
   "metadata": {},
   "outputs": [
    {
     "name": "stdout",
     "output_type": "stream",
     "text": [
      "Epoch 1/25\n"
     ]
    },
    {
     "name": "stderr",
     "output_type": "stream",
     "text": [
      "2023-03-31 12:34:40.655679: I tensorflow/core/grappler/optimizers/custom_graph_optimizer_registry.cc:113] Plugin optimizer for device_type GPU is enabled.\n",
      "2023-03-31 12:34:40.798436: I tensorflow/core/grappler/optimizers/custom_graph_optimizer_registry.cc:113] Plugin optimizer for device_type GPU is enabled.\n"
     ]
    },
    {
     "name": "stdout",
     "output_type": "stream",
     "text": [
      "  5/105 [>.............................] - ETA: 1s - loss: 0.0529  "
     ]
    },
    {
     "name": "stderr",
     "output_type": "stream",
     "text": [
      "2023-03-31 12:34:40.916389: I tensorflow/core/grappler/optimizers/custom_graph_optimizer_registry.cc:113] Plugin optimizer for device_type GPU is enabled.\n"
     ]
    },
    {
     "name": "stdout",
     "output_type": "stream",
     "text": [
      "105/105 [==============================] - ETA: 0s - loss: 0.0369"
     ]
    },
    {
     "name": "stderr",
     "output_type": "stream",
     "text": [
      "2023-03-31 12:34:42.493781: I tensorflow/core/grappler/optimizers/custom_graph_optimizer_registry.cc:113] Plugin optimizer for device_type GPU is enabled.\n",
      "2023-03-31 12:34:42.550996: I tensorflow/core/grappler/optimizers/custom_graph_optimizer_registry.cc:113] Plugin optimizer for device_type GPU is enabled.\n"
     ]
    },
    {
     "name": "stdout",
     "output_type": "stream",
     "text": [
      "105/105 [==============================] - 3s 17ms/step - loss: 0.0369 - val_loss: 0.1208\n",
      "Epoch 2/25\n",
      "105/105 [==============================] - 1s 14ms/step - loss: 0.0356 - val_loss: 0.1175\n",
      "Epoch 3/25\n",
      "105/105 [==============================] - 1s 14ms/step - loss: 0.0353 - val_loss: 0.1090\n",
      "Epoch 4/25\n",
      "105/105 [==============================] - 1s 14ms/step - loss: 0.0353 - val_loss: 0.1120\n",
      "Epoch 5/25\n",
      "105/105 [==============================] - 1s 14ms/step - loss: 0.0353 - val_loss: 0.1085\n",
      "Epoch 6/25\n",
      "105/105 [==============================] - 1s 14ms/step - loss: 0.0352 - val_loss: 0.1015\n",
      "Epoch 7/25\n",
      "105/105 [==============================] - 1s 14ms/step - loss: 0.0353 - val_loss: 0.1159\n",
      "Epoch 8/25\n",
      "105/105 [==============================] - 1s 14ms/step - loss: 0.0352 - val_loss: 0.1160\n",
      "Epoch 9/25\n",
      "105/105 [==============================] - 2s 17ms/step - loss: 0.0352 - val_loss: 0.1081\n",
      "Epoch 10/25\n",
      "105/105 [==============================] - 2s 15ms/step - loss: 0.0352 - val_loss: 0.1164\n",
      "Epoch 11/25\n",
      "105/105 [==============================] - 2s 18ms/step - loss: 0.0352 - val_loss: 0.1169\n",
      "Epoch 12/25\n",
      "105/105 [==============================] - 2s 20ms/step - loss: 0.0353 - val_loss: 0.1115\n",
      "Epoch 13/25\n",
      "105/105 [==============================] - 2s 17ms/step - loss: 0.0351 - val_loss: 0.1234\n",
      "Epoch 14/25\n",
      "105/105 [==============================] - 1s 14ms/step - loss: 0.0352 - val_loss: 0.1139\n",
      "Epoch 15/25\n",
      "105/105 [==============================] - 1s 14ms/step - loss: 0.0352 - val_loss: 0.1156\n",
      "Epoch 16/25\n",
      "105/105 [==============================] - 1s 14ms/step - loss: 0.0352 - val_loss: 0.1164\n",
      "Epoch 17/25\n",
      "105/105 [==============================] - 1s 14ms/step - loss: 0.0352 - val_loss: 0.1143\n",
      "Epoch 18/25\n",
      "105/105 [==============================] - 1s 14ms/step - loss: 0.0352 - val_loss: 0.1129\n",
      "Epoch 19/25\n",
      "105/105 [==============================] - 2s 14ms/step - loss: 0.0352 - val_loss: 0.1071\n",
      "Epoch 20/25\n",
      "105/105 [==============================] - 2s 15ms/step - loss: 0.0352 - val_loss: 0.1085\n",
      "Epoch 21/25\n",
      "105/105 [==============================] - 2s 15ms/step - loss: 0.0352 - val_loss: 0.1157\n",
      "Epoch 22/25\n",
      "105/105 [==============================] - 2s 15ms/step - loss: 0.0353 - val_loss: 0.1205\n",
      "Epoch 23/25\n",
      "105/105 [==============================] - 1s 14ms/step - loss: 0.0352 - val_loss: 0.1105\n",
      "Epoch 24/25\n",
      "105/105 [==============================] - 2s 15ms/step - loss: 0.0352 - val_loss: 0.1050\n",
      "Epoch 25/25\n",
      "105/105 [==============================] - 2s 15ms/step - loss: 0.0352 - val_loss: 0.1056\n"
     ]
    }
   ],
   "source": [
    "histora = model.fit(X_train, y_train, validation_data = (X_val, y_val), epochs = 25)"
   ]
  },
  {
   "cell_type": "code",
   "execution_count": 41,
   "id": "a0434968",
   "metadata": {},
   "outputs": [
    {
     "data": {
      "image/png": "[encoded data removed]",
      "text/plain": [
       "<Figure size 640x480 with 1 Axes>"
      ]
     },
     "metadata": {},
     "output_type": "display_data"
    }
   ],
   "source": [
    "def plot_history(history):\n",
    "    #acc = history.history['acc']\n",
    "    #val_acc = history.history['val_acc']\n",
    "    loss = history.history['loss']\n",
    "    val_loss = history.history['val_loss']\n",
    "    \n",
    "    epochs = range(1, len(loss) + 1)\n",
    "    \n",
    "    #plt.plot(epochs, acc, 'bo', label='Training acc')\n",
    "    #plt.plot(epochs, val_acc, 'b', label='Validation acc')\n",
    "    #plt.title('Training and validation accuracy')\n",
    "    #plt.legend()\n",
    "    \n",
    "    plt.figure()\n",
    "    \n",
    "    plt.plot(epochs, loss, 'bo', label='Training loss')\n",
    "    plt.plot(epochs, val_loss, 'b', label='Validation loss')\n",
    "    plt.title('Training and validation loss')\n",
    "    plt.legend()\n",
    "    plt.show()\n",
    "plot_history(histora)"
   ]
  },
  {
   "cell_type": "code",
   "execution_count": 42,
   "id": "d6745eab",
   "metadata": {},
   "outputs": [
    {
     "name": "stdout",
     "output_type": "stream",
     "text": [
      "10/33 [========>.....................] - ETA: 0s"
     ]
    },
    {
     "name": "stderr",
     "output_type": "stream",
     "text": [
      "2023-03-31 12:35:20.476699: I tensorflow/core/grappler/optimizers/custom_graph_optimizer_registry.cc:113] Plugin optimizer for device_type GPU is enabled.\n",
      "2023-03-31 12:35:20.530679: I tensorflow/core/grappler/optimizers/custom_graph_optimizer_registry.cc:113] Plugin optimizer for device_type GPU is enabled.\n"
     ]
    },
    {
     "name": "stdout",
     "output_type": "stream",
     "text": [
      "33/33 [==============================] - 0s 6ms/step\n"
     ]
    },
    {
     "data": {
      "text/plain": [
       "array([[[0.22565582],\n",
       "        [0.22298712],\n",
       "        [0.2332294 ],\n",
       "        [0.23957834],\n",
       "        [0.24387729],\n",
       "        [0.24581894],\n",
       "        [0.24621844],\n",
       "        [0.24739724],\n",
       "        [0.2477037 ],\n",
       "        [0.25010416]],\n",
       "\n",
       "       [[0.2254363 ],\n",
       "        [0.2230176 ],\n",
       "        [0.23502758],\n",
       "        [0.2405661 ],\n",
       "        [0.24367231],\n",
       "        [0.2448006 ],\n",
       "        [0.2464818 ],\n",
       "        [0.24712184],\n",
       "        [0.24973875],\n",
       "        [0.24928412]],\n",
       "\n",
       "       [[0.22550261],\n",
       "        [0.22496113],\n",
       "        [0.23607057],\n",
       "        [0.24038896],\n",
       "        [0.24266943],\n",
       "        [0.24507844],\n",
       "        [0.24621296],\n",
       "        [0.24915612],\n",
       "        [0.2489222 ],\n",
       "        [0.2503334 ]],\n",
       "\n",
       "       [[0.22764984],\n",
       "        [0.22598907],\n",
       "        [0.23590451],\n",
       "        [0.23938048],\n",
       "        [0.24295372],\n",
       "        [0.24480611],\n",
       "        [0.24824294],\n",
       "        [0.24833745],\n",
       "        [0.24996501],\n",
       "        [0.25020427]],\n",
       "\n",
       "       [[0.22847   ],\n",
       "        [0.22550619],\n",
       "        [0.234727  ],\n",
       "        [0.23958164],\n",
       "        [0.24261951],\n",
       "        [0.24680546],\n",
       "        [0.24740261],\n",
       "        [0.24936587],\n",
       "        [0.2498303 ],\n",
       "        [0.2509922 ]],\n",
       "\n",
       "       [[0.22780642],\n",
       "        [0.22416365],\n",
       "        [0.23487046],\n",
       "        [0.23918957],\n",
       "        [0.24460736],\n",
       "        [0.24594498],\n",
       "        [0.2484226 ],\n",
       "        [0.24922734],\n",
       "        [0.25061366],\n",
       "        [0.2508757 ]],\n",
       "\n",
       "       [[0.22641772],\n",
       "        [0.22445214],\n",
       "        [0.23449576],\n",
       "        [0.24124411],\n",
       "        [0.24375391],\n",
       "        [0.24698335],\n",
       "        [0.24829233],\n",
       "        [0.25001404],\n",
       "        [0.25050053],\n",
       "        [0.25049934]],\n",
       "\n",
       "       [[0.22695151],\n",
       "        [0.22421598],\n",
       "        [0.23671985],\n",
       "        [0.24042237],\n",
       "        [0.24484184],\n",
       "        [0.24687138],\n",
       "        [0.24908948],\n",
       "        [0.24990618],\n",
       "        [0.25012672],\n",
       "        [0.2513207 ]],\n",
       "\n",
       "       [[0.22660848],\n",
       "        [0.22653112],\n",
       "        [0.2358385 ],\n",
       "        [0.24154109],\n",
       "        [0.24472666],\n",
       "        [0.24767229],\n",
       "        [0.24898225],\n",
       "        [0.24953395],\n",
       "        [0.25094646],\n",
       "        [0.25159493]],\n",
       "\n",
       "       [[0.22922564],\n",
       "        [0.2255458 ],\n",
       "        [0.23703831],\n",
       "        [0.24142167],\n",
       "        [0.24553663],\n",
       "        [0.2475619 ],\n",
       "        [0.24860775],\n",
       "        [0.25034857],\n",
       "        [0.2512171 ],\n",
       "        [0.25185704]]], dtype=float32)"
      ]
     },
     "execution_count": 42,
     "metadata": {},
     "output_type": "execute_result"
    }
   ],
   "source": [
    "test_predict = model.predict(X_test)\n",
    "test_predict[:10]"
   ]
  },
  {
   "cell_type": "markdown",
   "id": "ebd80f21",
   "metadata": {},
   "source": [
    "# Inversing Transformation\n",
    "Since we normalized the data earlier and converted all the values in the range 0 to 1, now we should inverse the transformation to get actual values. "
   ]
  },
  {
   "cell_type": "code",
   "execution_count": 43,
   "id": "e92a07f1",
   "metadata": {},
   "outputs": [
    {
     "ename": "ValueError",
     "evalue": "Found array with dim 3. None expected <= 2.",
     "output_type": "error",
     "traceback": [
      "\u001b[0;31m---------------------------------------------------------------------------\u001b[0m",
      "\u001b[0;31mValueError\u001b[0m                                Traceback (most recent call last)",
      "Cell \u001b[0;32mIn[43], line 1\u001b[0m\n\u001b[0;32m----> 1\u001b[0m test_predict\u001b[39m=\u001b[39mscaler\u001b[39m.\u001b[39;49minverse_transform(test_predict)\n",
      "File \u001b[0;32m~/miniforge3/envs/aiap/lib/python3.10/site-packages/sklearn/preprocessing/_data.py:537\u001b[0m, in \u001b[0;36mMinMaxScaler.inverse_transform\u001b[0;34m(self, X)\u001b[0m\n\u001b[1;32m    523\u001b[0m \u001b[39m\u001b[39m\u001b[39m\"\"\"Undo the scaling of X according to feature_range.\u001b[39;00m\n\u001b[1;32m    524\u001b[0m \n\u001b[1;32m    525\u001b[0m \u001b[39mParameters\u001b[39;00m\n\u001b[0;32m   (...)\u001b[0m\n\u001b[1;32m    533\u001b[0m \u001b[39m    Transformed data.\u001b[39;00m\n\u001b[1;32m    534\u001b[0m \u001b[39m\"\"\"\u001b[39;00m\n\u001b[1;32m    535\u001b[0m check_is_fitted(\u001b[39mself\u001b[39m)\n\u001b[0;32m--> 537\u001b[0m X \u001b[39m=\u001b[39m check_array(\n\u001b[1;32m    538\u001b[0m     X, copy\u001b[39m=\u001b[39;49m\u001b[39mself\u001b[39;49m\u001b[39m.\u001b[39;49mcopy, dtype\u001b[39m=\u001b[39;49mFLOAT_DTYPES, force_all_finite\u001b[39m=\u001b[39;49m\u001b[39m\"\u001b[39;49m\u001b[39mallow-nan\u001b[39;49m\u001b[39m\"\u001b[39;49m\n\u001b[1;32m    539\u001b[0m )\n\u001b[1;32m    541\u001b[0m X \u001b[39m-\u001b[39m\u001b[39m=\u001b[39m \u001b[39mself\u001b[39m\u001b[39m.\u001b[39mmin_\n\u001b[1;32m    542\u001b[0m X \u001b[39m/\u001b[39m\u001b[39m=\u001b[39m \u001b[39mself\u001b[39m\u001b[39m.\u001b[39mscale_\n",
      "File \u001b[0;32m~/miniforge3/envs/aiap/lib/python3.10/site-packages/sklearn/utils/validation.py:915\u001b[0m, in \u001b[0;36mcheck_array\u001b[0;34m(array, accept_sparse, accept_large_sparse, dtype, order, copy, force_all_finite, ensure_2d, allow_nd, ensure_min_samples, ensure_min_features, estimator, input_name)\u001b[0m\n\u001b[1;32m    910\u001b[0m     \u001b[39mraise\u001b[39;00m \u001b[39mValueError\u001b[39;00m(\n\u001b[1;32m    911\u001b[0m         \u001b[39m\"\u001b[39m\u001b[39mdtype=\u001b[39m\u001b[39m'\u001b[39m\u001b[39mnumeric\u001b[39m\u001b[39m'\u001b[39m\u001b[39m is not compatible with arrays of bytes/strings.\u001b[39m\u001b[39m\"\u001b[39m\n\u001b[1;32m    912\u001b[0m         \u001b[39m\"\u001b[39m\u001b[39mConvert your data to numeric values explicitly instead.\u001b[39m\u001b[39m\"\u001b[39m\n\u001b[1;32m    913\u001b[0m     )\n\u001b[1;32m    914\u001b[0m \u001b[39mif\u001b[39;00m \u001b[39mnot\u001b[39;00m allow_nd \u001b[39mand\u001b[39;00m array\u001b[39m.\u001b[39mndim \u001b[39m>\u001b[39m\u001b[39m=\u001b[39m \u001b[39m3\u001b[39m:\n\u001b[0;32m--> 915\u001b[0m     \u001b[39mraise\u001b[39;00m \u001b[39mValueError\u001b[39;00m(\n\u001b[1;32m    916\u001b[0m         \u001b[39m\"\u001b[39m\u001b[39mFound array with dim \u001b[39m\u001b[39m%d\u001b[39;00m\u001b[39m. \u001b[39m\u001b[39m%s\u001b[39;00m\u001b[39m expected <= 2.\u001b[39m\u001b[39m\"\u001b[39m\n\u001b[1;32m    917\u001b[0m         \u001b[39m%\u001b[39m (array\u001b[39m.\u001b[39mndim, estimator_name)\n\u001b[1;32m    918\u001b[0m     )\n\u001b[1;32m    920\u001b[0m \u001b[39mif\u001b[39;00m force_all_finite:\n\u001b[1;32m    921\u001b[0m     _assert_all_finite(\n\u001b[1;32m    922\u001b[0m         array,\n\u001b[1;32m    923\u001b[0m         input_name\u001b[39m=\u001b[39minput_name,\n\u001b[1;32m    924\u001b[0m         estimator_name\u001b[39m=\u001b[39mestimator_name,\n\u001b[1;32m    925\u001b[0m         allow_nan\u001b[39m=\u001b[39mforce_all_finite \u001b[39m==\u001b[39m \u001b[39m\"\u001b[39m\u001b[39mallow-nan\u001b[39m\u001b[39m\"\u001b[39m,\n\u001b[1;32m    926\u001b[0m     )\n",
      "\u001b[0;31mValueError\u001b[0m: Found array with dim 3. None expected <= 2."
     ]
    }
   ],
   "source": [
    "test_predict=scaler.inverse_transform(test_predict)"
   ]
  },
  {
   "cell_type": "markdown",
   "id": "ff174d39",
   "metadata": {},
   "source": [
    "# Visualizing the predictions\n",
    "Here we have plotted actual and predicted stock prices for the test dataset. We can see that the model is performing fine."
   ]
  },
  {
   "cell_type": "code",
   "execution_count": null,
   "id": "e3fe7d1a",
   "metadata": {},
   "outputs": [],
   "source": [
    "plt.figure(figsize = (15,4))\n",
    "plt.plot(scaler.inverse_transform(y_test.reshape(-1,1)), color = 'r', label = 'actual')\n",
    "plt.plot(test_predict, color = 'b',label = 'predicted')\n",
    "plt.legend()\n",
    "plt.show()"
   ]
  },
  {
   "cell_type": "markdown",
   "id": "569ba5cb",
   "metadata": {},
   "source": [
    "# Evaluating model\n",
    "For evaluation, we will be using root mean square values."
   ]
  },
  {
   "cell_type": "code",
   "execution_count": null,
   "id": "eb3111a2",
   "metadata": {},
   "outputs": [],
   "source": [
    "from sklearn.metrics import mean_squared_error\n",
    "mean_squared_error(y_test,test_predict, squared = False)"
   ]
  }
 ],
 "metadata": {
  "kernelspec": {
   "display_name": "Python 3 (ipykernel)",
   "language": "python",
   "name": "python3"
  },
  "language_info": {
   "codemirror_mode": {
    "name": "ipython",
    "version": 3
   },
   "file_extension": ".py",
   "mimetype": "text/x-python",
   "name": "python",
   "nbconvert_exporter": "python",
   "pygments_lexer": "ipython3",
   "version": "3.10.9"
  }
 },
 "nbformat": 4,
 "nbformat_minor": 5
}

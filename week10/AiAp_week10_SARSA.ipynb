{
 "cells": [
  {
   "cell_type": "markdown",
   "metadata": {},
   "source": [
    "# Exercise week 9: epsilon-greedy policy & SARSA\n"
   ]
  },
  {
   "cell_type": "markdown",
   "metadata": {},
   "source": [
    "# Specification of the task\n",
    "Same environment. Reward and Transitions."
   ]
  },
  {
   "cell_type": "code",
   "execution_count": 1,
   "metadata": {},
   "outputs": [],
   "source": [
    "# unchanged from prev. exercise.\n",
    "rewards = [0, -1, 0, -10, 4, 3, 7, 5]\n",
    "is_terminal = [False, False, False, True, False, True, True, True]\n",
    "T = [ \n",
    "    [1, 2],  # in state s0, taking action a0 brings us to state s1, a1 to s2\n",
    "    [3,4],   # in state s1, taking action a0 brings us to state s3, a1 to s4\n",
    "    [6,5],   # in state s2, taking action a0 brings us to state s6, a1 to s5\n",
    "    [-1, -1], # state s3 is a terminal state. next-state is undefined (we use -1 here).\n",
    "    [7, 7],   # from state s4, both actions lead to state s7\n",
    "    [-1, -1], # state s5 is a terminal state\n",
    "    [-1, -1], # state s6 is a terminal state\n",
    "    [-1, -1]  # state s7 is a terminal state\n",
    "]\n"
   ]
  },
  {
   "cell_type": "markdown",
   "metadata": {
    "collapsed": true
   },
   "source": [
    "# Exercise:\n",
    "\n",
    "\n",
    "## Implement SARSA\n",
    "* implement the SARSA Algorithm (shown on the slides)  \n",
    "* Caluculate and monitor the Q(s,a) for **every** state s\n",
    "* Monitor the trial-by-trial RPE \n",
    "* Use matplotlib to visualize per state the evolution of a) the value and b) the RPE\n",
    "* run SARSA a second time but change the discount rate $\\gamma$. Use 0.9 and 0.0 (what does $\\gamma=0$ mean?)\n",
    "* use $\\epsilon=0.1$\n",
    "\n",
    "\n",
    "\n",
    "## optional (recommended)\n",
    "\n",
    "* Use an object oriented approach: define one class \"Environment\" and one class \"Agent\". The environment exposes one single method: **step(action)**.   \n",
    "parameters: action  \n",
    "return values: (next_state, reward, done, info)  \n",
    "* Use numpy arrays instead of Python lists.\n",
    "\n"
   ]
  },
  {
   "cell_type": "code",
   "execution_count": null,
   "metadata": {},
   "outputs": [],
   "source": []
  }
 ],
 "metadata": {
  "kernelspec": {
   "display_name": "Python 3 (ipykernel)",
   "language": "python",
   "name": "python3"
  },
  "language_info": {
   "codemirror_mode": {
    "name": "ipython",
    "version": 3
   },
   "file_extension": ".py",
   "mimetype": "text/x-python",
   "name": "python",
   "nbconvert_exporter": "python",
   "pygments_lexer": "ipython3",
   "version": "3.10.8"
  }
 },
 "nbformat": 4,
 "nbformat_minor": 1
}
